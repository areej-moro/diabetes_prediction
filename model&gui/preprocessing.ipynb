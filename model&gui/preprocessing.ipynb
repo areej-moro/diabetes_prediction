{
 "cells": [
  {
   "cell_type": "markdown",
   "metadata": {},
   "source": [
    "Connected to Python 3.12.5"
   ]
  },
  {
   "cell_type": "markdown",
   "id": "5aff124f-c8c8-4646-9685-52da8afde997",
   "metadata": {},
   "source": [
    " # Preprocessing the Pima Indians Diabetes Dataset"
   ]
  },
  {
   "cell_type": "markdown",
   "id": "7a21c335-d65f-4f23-8a59-1a740999b62d",
   "metadata": {},
   "source": [
    " This code preprocesses the Pima Indians Diabetes dataset (769 records) to prepare it for training machine learning models (Neural Network + Fuzzy Logic). It includes steps like data cleaning, handling missing values, removing outliers, and feature engineering. Modified to retain fuzzy logic features (Glucose, BMI, BloodPressure, Age)."
   ]
  },
  {
   "cell_type": "markdown",
   "id": "0741f498-51fc-42ad-b41e-515a94971ab5",
   "metadata": {},
   "source": [
    " import libraries"
   ]
  },
  {
   "cell_type": "code",
   "execution_count": null,
   "id": "4c4b9d1e-e48b-49d0-a6df-2c0e2ee3e2bb",
   "metadata": {},
   "outputs": [],
   "source": [
    "import pandas as pd\n",
    "import numpy as np\n",
    "from sklearn.model_selection import train_test_split\n",
    "from sklearn.preprocessing import StandardScaler\n",
    "from sklearn.experimental import enable_iterative_imputer\n",
    "from sklearn.impute import IterativeImputer\n",
    "from sklearn.feature_selection import SelectKBest, mutual_info_classif\n",
    "from imblearn.over_sampling import SMOTE\n",
    "from sklearn.ensemble import IsolationForest\n",
    "import seaborn as sns\n",
    "import matplotlib.pyplot as plt\n",
    "import os"
   ]
  },
  {
   "cell_type": "markdown",
   "id": "be40c2be-6dc0-429f-9e1d-c873530dcb52",
   "metadata": {},
   "source": [
    " Load the Pima Indians Diabetes Dataset from local file"
   ]
  },
  {
   "cell_type": "code",
   "execution_count": null,
   "id": "d935f103-3655-47b3-b1ef-3af6c4b5579d",
   "metadata": {},
   "outputs": [
    {
     "name": "stdout",
     "output_type": "stream",
     "text": [
      "Dataset loaded successfully from c:\\Users\\fawzy\\OneDrive\\Desktop\\soft_4\\pima-indians-diabetes.data.csv\n"
     ]
    }
   ],
   "source": [
    "data_path = 'pima-indians-diabetes.data.csv'\n",
    "columns = ['Pregnancies', 'Glucose', 'BloodPressure', 'SkinThickness', 'Insulin', 'BMI', \n",
    "           'DiabetesPedigreeFunction', 'Age', 'Outcome']\n",
    "try:\n",
    "    data = pd.read_csv(data_path, names=columns)\n",
    "    print(f\"Dataset loaded successfully from {os.path.abspath(data_path)}\")\n",
    "except FileNotFoundError:\n",
    "    print(f\"Error: File {data_path} not found. Please download the dataset and update the path.\")\n",
    "    exit(1)"
   ]
  },
  {
   "cell_type": "markdown",
   "id": "e89be103-45dd-46e2-b1a7-0b724a67c105",
   "metadata": {},
   "source": [
    " Debugging: Print first few rows and data types"
   ]
  },
  {
   "cell_type": "code",
   "execution_count": null,
   "id": "0350d86f-d88d-4ebc-8d99-302a471b00ae",
   "metadata": {},
   "outputs": [
    {
     "name": "stdout",
     "output_type": "stream",
     "text": [
      "First 5 rows of loaded data:\n",
      "    Pregnancies  Glucose  BloodPressure  SkinThickness  Insulin   BMI  \\\n",
      "0  Pregnancies  Glucose  BloodPressure  SkinThickness  Insulin   BMI   \n",
      "1            6      148             72             35        0  33.6   \n",
      "2            1       85             66             29        0  26.6   \n",
      "3            8      183             64              0        0  23.3   \n",
      "4            1       89             66             23       94  28.1   \n",
      "\n",
      "   DiabetesPedigreeFunction  Age  Outcome  \n",
      "0  DiabetesPedigreeFunction  Age  Outcome  \n",
      "1                     0.627   50        1  \n",
      "2                     0.351   31        0  \n",
      "3                     0.672   32        1  \n",
      "4                     0.167   21        0  \n",
      "Data types:\n",
      " Pregnancies                 object\n",
      "Glucose                     object\n",
      "BloodPressure               object\n",
      "SkinThickness               object\n",
      "Insulin                     object\n",
      "BMI                         object\n",
      "DiabetesPedigreeFunction    object\n",
      "Age                         object\n",
      "Outcome                     object\n",
      "dtype: object\n"
     ]
    }
   ],
   "source": [
    "print(\"First 5 rows of loaded data:\\n\", data.head())\n",
    "print(\"Data types:\\n\", data.dtypes)"
   ]
  },
  {
   "cell_type": "markdown",
   "id": "84370edc-b9f5-47c0-bb75-95e3c2c22edd",
   "metadata": {},
   "source": [
    " Check for non-numeric values in Pregnancies"
   ]
  },
  {
   "cell_type": "code",
   "execution_count": null,
   "id": "f6842af8-5bac-4beb-8742-c5ebbc2224a1",
   "metadata": {},
   "outputs": [
    {
     "name": "stdout",
     "output_type": "stream",
     "text": [
      "Non-numeric values in Pregnancies:\n",
      " 0    Pregnancies\n",
      "Name: Pregnancies, dtype: object\n",
      "Replacing non-numeric values in Pregnancies with median.\n"
     ]
    },
    {
     "name": "stderr",
     "output_type": "stream",
     "text": [
      "<ipython-input-4-2f706af4bf6c>:8: FutureWarning: A value is trying to be set on a copy of a DataFrame or Series through chained assignment using an inplace method.\n",
      "The behavior will change in pandas 3.0. This inplace method will never work because the intermediate object on which we are setting values always behaves as a copy.\n",
      "\n",
      "For example, when doing 'df[col].method(value, inplace=True)', try using 'df.method({col: value}, inplace=True)' or df[col] = df[col].method(value) instead, to perform the operation inplace on the original object.\n",
      "\n",
      "\n",
      "  data['Pregnancies'].fillna(median_pregnancies, inplace=True)\n"
     ]
    }
   ],
   "source": [
    "non_numeric = data[data['Pregnancies'].astype(str).str.contains(r'[^0-9]')]\n",
    "if not non_numeric.empty:\n",
    "    print(\"Non-numeric values in Pregnancies:\\n\", non_numeric['Pregnancies'])\n",
    "    print(\"Replacing non-numeric values in Pregnancies with median.\")\n",
    "    data['Pregnancies'] = pd.to_numeric(data['Pregnancies'], errors='coerce')\n",
    "    median_pregnancies = data['Pregnancies'].median()\n",
    "    data['Pregnancies'].fillna(median_pregnancies, inplace=True)\n",
    "else:\n",
    "    data['Pregnancies'] = data['Pregnancies'].astype(int)"
   ]
  },
  {
   "cell_type": "markdown",
   "id": "30135c2b-64ee-442e-a936-8455084c4231",
   "metadata": {},
   "source": [
    " Ensure other columns are numeric"
   ]
  },
  {
   "cell_type": "code",
   "execution_count": null,
   "id": "4888ed0d-5bc4-481d-9dbe-ccc518c1f38d",
   "metadata": {},
   "outputs": [
    {
     "name": "stdout",
     "output_type": "stream",
     "text": [
      "Warning: Non-numeric values found in Glucose. Replacing with median.\n",
      "Warning: Non-numeric values found in BloodPressure. Replacing with median.\n",
      "Warning: Non-numeric values found in SkinThickness. Replacing with median.\n",
      "Warning: Non-numeric values found in Insulin. Replacing with median.\n",
      "Warning: Non-numeric values found in BMI. Replacing with median.\n",
      "Warning: Non-numeric values found in DiabetesPedigreeFunction. Replacing with median.\n",
      "Warning: Non-numeric values found in Age. Replacing with median.\n",
      "Warning: Non-numeric values found in Outcome. Replacing with median.\n"
     ]
    },
    {
     "name": "stderr",
     "output_type": "stream",
     "text": [
      "<ipython-input-5-3f509148013d>:6: FutureWarning: A value is trying to be set on a copy of a DataFrame or Series through chained assignment using an inplace method.\n",
      "The behavior will change in pandas 3.0. This inplace method will never work because the intermediate object on which we are setting values always behaves as a copy.\n",
      "\n",
      "For example, when doing 'df[col].method(value, inplace=True)', try using 'df.method({col: value}, inplace=True)' or df[col] = df[col].method(value) instead, to perform the operation inplace on the original object.\n",
      "\n",
      "\n",
      "  data[col].fillna(data[col].median(), inplace=True)\n",
      "<ipython-input-5-3f509148013d>:6: FutureWarning: A value is trying to be set on a copy of a DataFrame or Series through chained assignment using an inplace method.\n",
      "The behavior will change in pandas 3.0. This inplace method will never work because the intermediate object on which we are setting values always behaves as a copy.\n",
      "\n",
      "For example, when doing 'df[col].method(value, inplace=True)', try using 'df.method({col: value}, inplace=True)' or df[col] = df[col].method(value) instead, to perform the operation inplace on the original object.\n",
      "\n",
      "\n",
      "  data[col].fillna(data[col].median(), inplace=True)\n",
      "<ipython-input-5-3f509148013d>:6: FutureWarning: A value is trying to be set on a copy of a DataFrame or Series through chained assignment using an inplace method.\n",
      "The behavior will change in pandas 3.0. This inplace method will never work because the intermediate object on which we are setting values always behaves as a copy.\n",
      "\n",
      "For example, when doing 'df[col].method(value, inplace=True)', try using 'df.method({col: value}, inplace=True)' or df[col] = df[col].method(value) instead, to perform the operation inplace on the original object.\n",
      "\n",
      "\n",
      "  data[col].fillna(data[col].median(), inplace=True)\n",
      "<ipython-input-5-3f509148013d>:6: FutureWarning: A value is trying to be set on a copy of a DataFrame or Series through chained assignment using an inplace method.\n",
      "The behavior will change in pandas 3.0. This inplace method will never work because the intermediate object on which we are setting values always behaves as a copy.\n",
      "\n",
      "For example, when doing 'df[col].method(value, inplace=True)', try using 'df.method({col: value}, inplace=True)' or df[col] = df[col].method(value) instead, to perform the operation inplace on the original object.\n",
      "\n",
      "\n",
      "  data[col].fillna(data[col].median(), inplace=True)\n",
      "<ipython-input-5-3f509148013d>:6: FutureWarning: A value is trying to be set on a copy of a DataFrame or Series through chained assignment using an inplace method.\n",
      "The behavior will change in pandas 3.0. This inplace method will never work because the intermediate object on which we are setting values always behaves as a copy.\n",
      "\n",
      "For example, when doing 'df[col].method(value, inplace=True)', try using 'df.method({col: value}, inplace=True)' or df[col] = df[col].method(value) instead, to perform the operation inplace on the original object.\n",
      "\n",
      "\n",
      "  data[col].fillna(data[col].median(), inplace=True)\n",
      "<ipython-input-5-3f509148013d>:6: FutureWarning: A value is trying to be set on a copy of a DataFrame or Series through chained assignment using an inplace method.\n",
      "The behavior will change in pandas 3.0. This inplace method will never work because the intermediate object on which we are setting values always behaves as a copy.\n",
      "\n",
      "For example, when doing 'df[col].method(value, inplace=True)', try using 'df.method({col: value}, inplace=True)' or df[col] = df[col].method(value) instead, to perform the operation inplace on the original object.\n",
      "\n",
      "\n",
      "  data[col].fillna(data[col].median(), inplace=True)\n",
      "<ipython-input-5-3f509148013d>:6: FutureWarning: A value is trying to be set on a copy of a DataFrame or Series through chained assignment using an inplace method.\n",
      "The behavior will change in pandas 3.0. This inplace method will never work because the intermediate object on which we are setting values always behaves as a copy.\n",
      "\n",
      "For example, when doing 'df[col].method(value, inplace=True)', try using 'df.method({col: value}, inplace=True)' or df[col] = df[col].method(value) instead, to perform the operation inplace on the original object.\n",
      "\n",
      "\n",
      "  data[col].fillna(data[col].median(), inplace=True)\n",
      "<ipython-input-5-3f509148013d>:6: FutureWarning: A value is trying to be set on a copy of a DataFrame or Series through chained assignment using an inplace method.\n",
      "The behavior will change in pandas 3.0. This inplace method will never work because the intermediate object on which we are setting values always behaves as a copy.\n",
      "\n",
      "For example, when doing 'df[col].method(value, inplace=True)', try using 'df.method({col: value}, inplace=True)' or df[col] = df[col].method(value) instead, to perform the operation inplace on the original object.\n",
      "\n",
      "\n",
      "  data[col].fillna(data[col].median(), inplace=True)\n"
     ]
    }
   ],
   "source": [
    "for col in columns[1:]:  # Skip Pregnancies, already handled\n",
    "    data[col] = pd.to_numeric(data[col], errors='coerce')\n",
    "    if data[col].isna().any():\n",
    "        print(f\"Warning: Non-numeric values found in {col}. Replacing with median.\")\n",
    "        data[col].fillna(data[col].median(), inplace=True)"
   ]
  },
  {
   "cell_type": "markdown",
   "id": "cfdfb8f8-05e1-44e9-ba36-c7bcbdfa9fc3",
   "metadata": {},
   "source": [
    " Verify data types after conversion"
   ]
  },
  {
   "cell_type": "code",
   "execution_count": null,
   "id": "8f950d1b-10db-403d-9cdb-95820e0bf60c",
   "metadata": {},
   "outputs": [
    {
     "name": "stdout",
     "output_type": "stream",
     "text": [
      "Data types after conversion:\n",
      " Pregnancies                 float64\n",
      "Glucose                     float64\n",
      "BloodPressure               float64\n",
      "SkinThickness               float64\n",
      "Insulin                     float64\n",
      "BMI                         float64\n",
      "DiabetesPedigreeFunction    float64\n",
      "Age                         float64\n",
      "Outcome                     float64\n",
      "dtype: object\n"
     ]
    }
   ],
   "source": [
    "print(\"Data types after conversion:\\n\", data.dtypes)"
   ]
  },
  {
   "cell_type": "markdown",
   "id": "d07110f0-c799-44ff-af9a-606afdecd114",
   "metadata": {},
   "source": [
    " # Step 1: Handle Missing Values"
   ]
  },
  {
   "cell_type": "code",
   "execution_count": null,
   "id": "363f189d-aff1-4c35-9a63-e1b3f0e7c005",
   "metadata": {},
   "outputs": [],
   "source": [
    "# Features with implausible zeros: Glucose, BloodPressure, SkinThickness, Insulin, BMI\n",
    "features_with_zeros = ['Glucose', 'BloodPressure', 'SkinThickness', 'Insulin', 'BMI']\n",
    "for feature in features_with_zeros:\n",
    "    # Replace 0 with NaN for imputation\n",
    "    data[feature] = data[feature].replace(0, np.nan)\n",
    "\n",
    "# Use Iterative Imputation to fill missing values\n",
    "imputer = IterativeImputer(max_iter=10, random_state=42)\n",
    "try:\n",
    "    data[features_with_zeros] = imputer.fit_transform(data[features_with_zeros])\n",
    "except ValueError as e:\n",
    "    print(f\"Error during imputation: {e}\")\n",
    "    print(\"Ensure all values in features_with_zeros are numeric.\")\n",
    "    exit(1)"
   ]
  },
  {
   "cell_type": "code",
   "execution_count": null,
   "id": "38074cfe-8a3e-4b58-9767-3b28bf65e3f1",
   "metadata": {},
   "outputs": [
    {
     "name": "stdout",
     "output_type": "stream",
     "text": [
      "Missing values after imputation:\n",
      " Pregnancies                 0\n",
      "Glucose                     0\n",
      "BloodPressure               0\n",
      "SkinThickness               0\n",
      "Insulin                     0\n",
      "BMI                         0\n",
      "DiabetesPedigreeFunction    0\n",
      "Age                         0\n",
      "Outcome                     0\n",
      "dtype: int64\n"
     ]
    }
   ],
   "source": [
    "# Verify no missing values remain\n",
    "print(\"Missing values after imputation:\\n\", data.isnull().sum())"
   ]
  },
  {
   "cell_type": "markdown",
   "id": "1c1ffaaf-8a0c-428c-a235-bd15e9221d12",
   "metadata": {},
   "source": [
    " # Step 2: Outlier Detection"
   ]
  },
  {
   "cell_type": "code",
   "execution_count": null,
   "id": "b22af639-0a0c-4314-bcb4-7b32cca5faf8",
   "metadata": {},
   "outputs": [
    {
     "name": "stdout",
     "output_type": "stream",
     "text": [
      "Removed 39 outliers from the dataset.\n"
     ]
    }
   ],
   "source": [
    "# Use Isolation Forest to detect and remove outliers\n",
    "iso_forest = IsolationForest(contamination=0.05, random_state=42)\n",
    "outliers = iso_forest.fit_predict(data[features_with_zeros])\n",
    "data = data[outliers == 1]  # Keep non-outliers\n",
    "print(f\"Removed {sum(outliers == -1)} outliers from the dataset.\")"
   ]
  },
  {
   "cell_type": "markdown",
   "id": "1b84fbf1-0d7a-4eed-b0de-810e9b5438a4",
   "metadata": {},
   "source": [
    " # Step 3: Feature Engineering"
   ]
  },
  {
   "cell_type": "code",
   "execution_count": null,
   "id": "67d4e89b-3833-41e6-9c1e-389230ef0544",
   "metadata": {},
   "outputs": [],
   "source": [
    "# Interaction features\n",
    "data['Glucose_BMI'] = data['Glucose'] * data['BMI']\n",
    "data['Insulin_Pedigree'] = data['Insulin'] * data['DiabetesPedigreeFunction']"
   ]
  },
  {
   "cell_type": "code",
   "execution_count": null,
   "id": "f313d319-e4a3-4cfa-8021-6f208d3ac1a3",
   "metadata": {},
   "outputs": [],
   "source": [
    "# Non-linear transformations\n",
    "data['Log_Insulin'] = np.log1p(data['Insulin'])\n",
    "data['Log_DiabetesPedigree'] = np.log1p(data['DiabetesPedigreeFunction'])"
   ]
  },
  {
   "cell_type": "code",
   "execution_count": null,
   "id": "6b84d47e-dfa5-4826-bd64-cc75b2ce8273",
   "metadata": {},
   "outputs": [],
   "source": [
    "# Create categorical feature: Obesity Category (Derived from BMI)\n",
    "def categorize_bmi(bmi):\n",
    "    if bmi < 18.5:\n",
    "        return 'Underweight'\n",
    "    elif 18.5 <= bmi < 25:\n",
    "        return 'Normal'\n",
    "    elif 25 <= bmi < 30:\n",
    "        return 'Overweight'\n",
    "    else:\n",
    "        return 'Obese'\n",
    "data['Obesity_Category'] = data['BMI'].apply(categorize_bmi)"
   ]
  },
  {
   "cell_type": "code",
   "execution_count": null,
   "id": "edee2381-762c-4bb8-a264-1cdade143534",
   "metadata": {},
   "outputs": [],
   "source": [
    "# Create categorical feature: Age Group (Derived from Age)\n",
    "def categorize_age(age):\n",
    "    if age <= 30:\n",
    "        return 'Young'\n",
    "    elif 30 < age <= 50:\n",
    "        return 'Middle-Aged'\n",
    "    else:\n",
    "        return 'Senior'\n",
    "data['Age_Group'] = data['Age'].apply(categorize_age)"
   ]
  },
  {
   "cell_type": "code",
   "execution_count": null,
   "id": "6dbf7799-c594-4316-93f2-733ecefee29d",
   "metadata": {},
   "outputs": [],
   "source": [
    "# One-hot encode categorical features\n",
    "data = pd.get_dummies(data, columns=['Obesity_Category', 'Age_Group'], prefix=['Obesity', 'Age'])"
   ]
  },
  {
   "cell_type": "markdown",
   "id": "69b150ef-e3a7-44e4-9a07-2deaef766914",
   "metadata": {},
   "source": [
    " # Step 4: Apply SMOTE for Class Balancing"
   ]
  },
  {
   "cell_type": "code",
   "execution_count": null,
   "id": "fb4ab809-ebb4-4701-bf59-a447bc46a8be",
   "metadata": {},
   "outputs": [
    {
     "name": "stderr",
     "output_type": "stream",
     "text": [
      "c:\\Users\\fawzy\\AppData\\Local\\Programs\\Python\\Python312\\Lib\\site-packages\\sklearn\\base.py:474: FutureWarning: `BaseEstimator._validate_data` is deprecated in 1.6 and will be removed in 1.7. Use `sklearn.utils.validation.validate_data` instead. This function becomes public and is part of the scikit-learn developer API.\n",
      "  warnings.warn(\n"
     ]
    },
    {
     "name": "stdout",
     "output_type": "stream",
     "text": [
      "Class distribution after SMOTE:\n",
      " Outcome\n",
      "0.0    0.555683\n",
      "1.0    0.444317\n",
      "Name: proportion, dtype: float64\n"
     ]
    }
   ],
   "source": [
    "X = data.drop('Outcome', axis=1)\n",
    "y = data['Outcome']\n",
    "smote = SMOTE(random_state=42, sampling_strategy=0.8)\n",
    "X_balanced, y_balanced = smote.fit_resample(X, y)\n",
    "data_balanced = pd.concat([pd.DataFrame(X_balanced, columns=X.columns), pd.Series(y_balanced, name='Outcome')], axis=1)\n",
    "print(\"Class distribution after SMOTE:\\n\", data_balanced['Outcome'].value_counts(normalize=True))"
   ]
  },
  {
   "cell_type": "markdown",
   "id": "9d8fb67c-7fb1-433b-9d67-7b0c0212686c",
   "metadata": {},
   "source": [
    " # Step 5: Feature Selection for Neural Network"
   ]
  },
  {
   "cell_type": "code",
   "execution_count": null,
   "id": "749b4ab2-808c-4eb7-89ac-9d5aee33067c",
   "metadata": {},
   "outputs": [],
   "source": [
    "# Pre-select BloodPressure and DiabetesPedigreeFunction\n",
    "pre_selected_features = ['BloodPressure', 'DiabetesPedigreeFunction']"
   ]
  },
  {
   "cell_type": "code",
   "execution_count": null,
   "id": "412fabbc-5f1b-4cf0-9bb5-331db8a78ef2",
   "metadata": {},
   "outputs": [],
   "source": [
    "# Verify pre-selected features exist\n",
    "missing_pre_selected = [feat for feat in pre_selected_features if feat not in data_balanced.columns]\n",
    "if missing_pre_selected:\n",
    "    print(f\"Error: The following pre-selected features are missing: {missing_pre_selected}\")\n",
    "    exit(1)"
   ]
  },
  {
   "cell_type": "code",
   "execution_count": null,
   "id": "c83f6fa7-ad73-49ea-b926-1eed90f55a23",
   "metadata": {},
   "outputs": [],
   "source": [
    "# Define features required for fuzzy logic\n",
    "fuzzy_required_features = ['Glucose', 'BMI', 'BloodPressure', 'Age']"
   ]
  },
  {
   "cell_type": "code",
   "execution_count": null,
   "id": "5ff10904-6691-41eb-bfad-ca97d3a13c86",
   "metadata": {},
   "outputs": [],
   "source": [
    "# Use mutual information for feature selection (excluding pre-selected and fuzzy features)\n",
    "X = data_balanced.drop(['Outcome'] + pre_selected_features + fuzzy_required_features, axis=1)\n",
    "y = data_balanced['Outcome']\n",
    "selector = SelectKBest(score_func=mutual_info_classif, k=6)  # Select top 6 features\n",
    "X_selected = selector.fit_transform(X, y)"
   ]
  },
  {
   "cell_type": "code",
   "execution_count": null,
   "id": "f70edf2f-4a96-4f02-8ba7-98a48dfc4368",
   "metadata": {},
   "outputs": [],
   "source": [
    "# Get selected feature names\n",
    "selected_indices = selector.get_support(indices=True)\n",
    "selected_features = X.columns[selected_indices].tolist()"
   ]
  },
  {
   "cell_type": "code",
   "execution_count": null,
   "id": "56023377-383e-4ad8-9bc1-957c9f0dd68a",
   "metadata": {},
   "outputs": [
    {
     "name": "stdout",
     "output_type": "stream",
     "text": [
      "Neural network selected features: ['BloodPressure', 'Pregnancies', 'SkinThickness', 'Insulin', 'Glucose_BMI', 'Insulin_Pedigree', 'Log_Insulin']\n"
     ]
    }
   ],
   "source": [
    "# Combine pre-selected and selected features for neural network\n",
    "nn_selected_features = pre_selected_features + selected_features\n",
    "# Remove Glucose and DiabetesPedigreeFunction as per original logic, but ensure fuzzy features are retained separately\n",
    "if 'Glucose' in nn_selected_features:\n",
    "    nn_selected_features.remove('Glucose')\n",
    "if 'DiabetesPedigreeFunction' in nn_selected_features:\n",
    "    nn_selected_features.remove('DiabetesPedigreeFunction')\n",
    "print(\"Neural network selected features:\", nn_selected_features)"
   ]
  },
  {
   "cell_type": "code",
   "execution_count": null,
   "id": "a04db0bc-9c12-410e-aa05-d5c90a43e2fc",
   "metadata": {},
   "outputs": [
    {
     "name": "stdout",
     "output_type": "stream",
     "text": [
      "Final selected features (including fuzzy features): ['Log_Insulin', 'BloodPressure', 'Age', 'Insulin_Pedigree', 'SkinThickness', 'Pregnancies', 'BMI', 'Glucose_BMI', 'Insulin', 'Glucose']\n"
     ]
    }
   ],
   "source": [
    "# Combine neural network and fuzzy features for the final dataset\n",
    "final_selected_features = list(set(nn_selected_features + fuzzy_required_features))\n",
    "print(\"Final selected features (including fuzzy features):\", final_selected_features)"
   ]
  },
  {
   "cell_type": "code",
   "execution_count": null,
   "id": "9568951b-5af3-4afe-89da-2155c8c1f20d",
   "metadata": {},
   "outputs": [],
   "source": [
    "# Update dataset with selected features (for both neural network and fuzzy logic)\n",
    "data_selected = pd.concat([data_balanced[final_selected_features], data_balanced['Outcome']], axis=1)"
   ]
  },
  {
   "cell_type": "markdown",
   "id": "d5364c12-b55a-4112-a743-ebc770066d79",
   "metadata": {},
   "source": [
    " # Step 6: Correlation Heatmap"
   ]
  },
  {
   "cell_type": "code",
   "execution_count": null,
   "id": "b012a4c0-0b7b-4a61-99b4-dbcb2f0d6910",
   "metadata": {},
   "outputs": [
    {
     "name": "stdout",
     "output_type": "stream",
     "text": [
      "Correlation heatmap saved to c:\\Users\\fawzy\\OneDrive\\Desktop\\soft_4\\correlation_matrix.png\n"
     ]
    }
   ],
   "source": [
    "numeric_cols = data_selected.select_dtypes(include=[np.number]).columns\n",
    "if len(numeric_cols) > 1:\n",
    "    plt.figure(figsize=(10, 8))\n",
    "    sns.heatmap(data_selected[numeric_cols].corr(), annot=True, cmap='coolwarm', fmt='.2f')\n",
    "    plt.title('Correlation Matrix of Selected Features')\n",
    "    output_path = './correlation_matrix.png'\n",
    "    plt.savefig(output_path)\n",
    "    plt.close()\n",
    "    print(f\"Correlation heatmap saved to {os.path.abspath(output_path)}\")\n",
    "else:\n",
    "    print(\"Warning: Not enough numeric columns for correlation heatmap.\")"
   ]
  },
  {
   "cell_type": "markdown",
   "id": "4c298919-19ca-4fd8-9515-5ee695285d85",
   "metadata": {},
   "source": [
    " # Step 7: Feature Scaling"
   ]
  },
  {
   "cell_type": "code",
   "execution_count": null,
   "id": "9ee0a8fa-bc2d-4d76-b6db-978b3c4a8631",
   "metadata": {},
   "outputs": [],
   "source": [
    "scaler = StandardScaler()\n",
    "features_to_scale = [col for col in data_selected.drop('Outcome', axis=1).columns \n",
    "                     if not col.startswith(('Obesity_', 'Age_'))]\n",
    "data_selected[features_to_scale] = scaler.fit_transform(data_selected[features_to_scale])"
   ]
  },
  {
   "cell_type": "markdown",
   "id": "f318df69-43ed-4f7a-ae16-beb4362875f1",
   "metadata": {},
   "source": [
    " # Step 8: Train-Test Split"
   ]
  },
  {
   "cell_type": "code",
   "execution_count": null,
   "id": "fb79f978-e4c8-485d-ba67-72faf87873b4",
   "metadata": {},
   "outputs": [],
   "source": [
    "X_final = data_selected.drop('Outcome', axis=1)\n",
    "y_final = data_selected['Outcome']\n",
    "X_train, X_test, y_train, y_test = train_test_split(\n",
    "    X_final, y_final, test_size=0.2, random_state=42, stratify=y_final\n",
    ")"
   ]
  },
  {
   "cell_type": "code",
   "execution_count": null,
   "id": "31bc3e1e-dd44-40d2-9f5f-30787e0d9ddd",
   "metadata": {},
   "outputs": [
    {
     "name": "stdout",
     "output_type": "stream",
     "text": [
      "Train set class distribution:\n",
      " Outcome\n",
      "0.0    0.556034\n",
      "1.0    0.443966\n",
      "Name: proportion, dtype: float64\n",
      "Test set class distribution:\n",
      " Outcome\n",
      "0.0    0.554286\n",
      "1.0    0.445714\n",
      "Name: proportion, dtype: float64\n"
     ]
    }
   ],
   "source": [
    "# Verify class balance in train and test sets\n",
    "print(\"Train set class distribution:\\n\", y_train.value_counts(normalize=True))\n",
    "print(\"Test set class distribution:\\n\", y_test.value_counts(normalize=True))"
   ]
  },
  {
   "cell_type": "code",
   "execution_count": null,
   "id": "da72e749-695d-42ac-907d-b41870c057a8",
   "metadata": {},
   "outputs": [],
   "source": [
    "# Save preprocessed data\n",
    "X_train.to_csv('X_train_preprocessed.csv', index=False)\n",
    "X_test.to_csv('X_test_preprocessed.csv', index=False)\n",
    "y_train.to_csv('y_train_preprocessed.csv', index=False)\n",
    "y_test.to_csv('y_test_preprocessed.csv', index=False)"
   ]
  }
 ],
 "metadata": {
  "kernelspec": {
   "display_name": "Python 3",
   "language": "python",
   "name": "python3"
  },
  "language_info": {
   "name": "python",
   "version": "3.12.5"
  }
 },
 "nbformat": 4,
 "nbformat_minor": 5
}
